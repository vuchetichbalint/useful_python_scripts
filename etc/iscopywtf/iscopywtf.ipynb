{
 "cells": [
  {
   "cell_type": "code",
   "execution_count": 31,
   "metadata": {
    "collapsed": false,
    "scrolled": true
   },
   "outputs": [
    {
     "name": "stdout",
     "output_type": "stream",
     "text": [
      "same index: False\n",
      "same columns: True\n",
      "setting with same columns: True\n",
      "---------------------------------------------\n",
      "same index: False\n",
      "same columns: True\n",
      "deleting with same columns: True\n",
      "deleting with same columns: True\n",
      "deleting with same columns: True\n",
      "False\n",
      "True\n",
      "   a  b  c\n",
      "0  1  2  7\n",
      "---------------------------------------------\n",
      "same index: False\n",
      "same columns: False\n",
      "   a  b\n",
      "0  1  2\n",
      "   a  b  c\n",
      "0  1  2  7\n",
      "<class 'NoneType'> - False\n",
      "<class 'weakref'> - True\n"
     ]
    }
   ],
   "source": [
    "import pandas as pd\n",
    "df = pd.DataFrame([[1, 2, 3]], columns=['a', 'b', 'c'])\n",
    "\n",
    "dfx = df[:]\n",
    "\n",
    "print('same index: {}'.format(df.index is dfx.index))\n",
    "print('same columns: {}'.format(df.columns is dfx.columns))\n",
    "\n",
    "\n",
    "print('setting with same columns: {}'.format(df.ix[0].index is dfx.ix[0].index))\n",
    "df['c'][0] = 7\n",
    "\n",
    "print('---------------------------------------------')\n",
    "\n",
    "print('same index: {}'.format(df.index is dfx.index))\n",
    "print('same columns: {}'.format(df.columns is dfx.columns))\n",
    "\n",
    "print('deleting with same columns: {}'.format(df.ix[0].index is dfx.ix[0].index))\n",
    "print('deleting with same columns: {}'.format(df._data.items is dfx._data.items))\n",
    "print('deleting with same columns: {}'.format(df.ix[0].index is dfx._data.items))\n",
    "\n",
    "print(df._is_view)\n",
    "print(dfx._is_view)\n",
    "\n",
    "print(df)\n",
    "df = df.drop(['c'], axis=1)\n",
    "\n",
    "print('---------------------------------------------')\n",
    "\n",
    "print('same index: {}'.format(df.index is dfx.index))\n",
    "print('same columns: {}'.format(df.columns is dfx.columns))\n",
    "\n",
    "print(df)\n",
    "print(dfx)\n",
    "\n",
    "print('{} - {}'.format(type(df.is_copy), df._is_view))\n",
    "print('{} - {}'.format(type(dfx.is_copy), dfx._is_view))"
   ]
  },
  {
   "cell_type": "code",
   "execution_count": 30,
   "metadata": {
    "collapsed": false
   },
   "outputs": [
    {
     "name": "stdout",
     "output_type": "stream",
     "text": [
      "same index: True\n",
      "same columns: False\n",
      "setting with same columns: False\n",
      "---------------------------------------------\n",
      "same index: True\n",
      "same columns: False\n",
      "deleting with same columns: False\n",
      "deleting with same columns: False\n",
      "deleting with same columns: False\n",
      "False\n",
      "False\n",
      "   a  b  c\n",
      "0  1  2  7\n",
      "---------------------------------------------\n",
      "same index: True\n",
      "same columns: False\n",
      "   a  b\n",
      "0  1  2\n",
      "   a  b  c\n",
      "0  1  2  3\n",
      "<class 'NoneType'> - False\n",
      "<class 'NoneType'> - False\n"
     ]
    }
   ],
   "source": [
    "import pandas as pd\n",
    "df = pd.DataFrame([[1, 2, 3]], columns=['a', 'b', 'c'])\n",
    "\n",
    "dfx = df[['a', 'b', 'c']]\n",
    "\n",
    "print('same index: {}'.format(df.index is dfx.index))\n",
    "print('same columns: {}'.format(df.columns is dfx.columns))\n",
    "\n",
    "print('setting with same columns: {}'.format(df.ix[0].index is dfx.ix[0].index))\n",
    "df['c'][0] = 7\n",
    "\n",
    "print('---------------------------------------------')\n",
    "\n",
    "print('same index: {}'.format(df.index is dfx.index))\n",
    "print('same columns: {}'.format(df.columns is dfx.columns))\n",
    "\n",
    "print('deleting with same columns: {}'.format(df.ix[0].index is dfx.ix[0].index))\n",
    "print('deleting with same columns: {}'.format(df._data.items is dfx._data.items))\n",
    "print('deleting with same columns: {}'.format(df.ix[0].index is dfx._data.items))\n",
    "\n",
    "print(df._is_view)\n",
    "print(dfx._is_view)\n",
    "\n",
    "print(df)\n",
    "df = df.drop(['c'], axis=1)\n",
    "\n",
    "print('---------------------------------------------')\n",
    "\n",
    "print('same index: {}'.format(df.index is dfx.index))\n",
    "print('same columns: {}'.format(df.columns is dfx.columns))\n",
    "\n",
    "print(df)\n",
    "print(dfx)\n",
    "\n",
    "print('{} - {}'.format(type(df.is_copy), df._is_view))\n",
    "print('{} - {}'.format(type(dfx.is_copy), dfx._is_view))"
   ]
  }
 ],
 "metadata": {
  "kernelspec": {
   "display_name": "Python 3",
   "language": "python",
   "name": "python3"
  },
  "language_info": {
   "codemirror_mode": {
    "name": "ipython",
    "version": 3
   },
   "file_extension": ".py",
   "mimetype": "text/x-python",
   "name": "python",
   "nbconvert_exporter": "python",
   "pygments_lexer": "ipython3",
   "version": "3.5.1"
  }
 },
 "nbformat": 4,
 "nbformat_minor": 0
}
